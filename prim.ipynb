{
 "cells": [
  {
   "cell_type": "code",
   "execution_count": 60,
   "metadata": {},
   "outputs": [],
   "source": [
    "from heapdict import heapdict\n",
    "class Prim(object):\n",
    "    def __init__(self, graph):\n",
    "        self.graph = graph\n",
    "        self.lenght = len(graph) # Basically N\n",
    "        self.Q = heapdict()\n",
    "        self.INF = 9999\n",
    "        self.r = 0\n",
    "        self.neighbors = []\n",
    "        self.weight = []\n",
    "\n",
    "        for i in range(self.lenght):\n",
    "            self.Q[i] = self.INF\n",
    "        self.Q[self.r] = 0\n",
    "\n",
    "        self.pi = [None] * 5\n",
    "        self.pi[self.r] = -1\n",
    "    \n",
    "    def matrix_adj(self, u):\n",
    "        self.neighbors = []\n",
    "        #for each vertex\n",
    "        for v in range(self.lenght):\n",
    "            #if G[u, v]\n",
    "            if self.graph[u][v]:\n",
    "            #append to the neighbors\n",
    "                self.neighbors.append(v)\n",
    "\n",
    "    def v_in_Q(self, v):\n",
    "        #get the keys in Q\n",
    "        keys = list(self.Q.keys())   #you can actually do if v in Q:\n",
    "        #check if v in keys\n",
    "        return v in keys\n",
    "\n",
    "    def list_adj(self, u): # Find who is the neighbor of that particular nodes\n",
    "        self.neighbors = []\n",
    "\n",
    "        for i in self.graph[u]:\n",
    "            self.neighbors.append(i[0])\n",
    "\n",
    "    def weight_adj(self, u):\n",
    "        self.weight = []\n",
    "\n",
    "        for i in self.graph[u]:\n",
    "            self.weight.append(i[1])\n",
    "\n",
    "    def prim_matrix(self):\n",
    "        while(self.Q):\n",
    "            #u = extract_min  (dict has no extract_min)\n",
    "            u  = self.Q.popitem()[0]  \n",
    "            self.matrix_adj(u)\n",
    "            # for v in adj[u]\n",
    "            for v in self.neighbors:\n",
    "                # if v in Q, and w(u, v) < v.key\n",
    "                if (self.v_in_Q(v) and (self.graph[u][v] < self.Q[v])):\n",
    "                    #v.pi = u\n",
    "                    #print('Condition satisfied')\n",
    "                    self.pi[v] = u\n",
    "                    #v.key = w(u, v)\n",
    "                    self.Q[v]  = self.graph[u][v]\n",
    "            #print(self.pi)\n",
    "            #print(\"-----\")\n",
    "        return self.pi\n",
    "    def prim_list(self):\n",
    "        while(self.Q):\n",
    "            #u = extract_min  (dict has no extract_min)\n",
    "            u  = self.Q.popitem()[0]  \n",
    "            self.weight_adj(u)\n",
    "            self.list_adj(u)\n",
    "            # for v in adj[u]\n",
    "            for index, v in enumerate(self.neighbors):\n",
    "                #if v in Q, and w(u, v) < v.key\n",
    "                if (self.v_in_Q(v) and self.weight[index] < self.Q[v]):\n",
    "                    #v.pi = u\n",
    "                    self.pi[v] = u\n",
    "                    #v.key = w(u, v)\n",
    "                    self.Q[v]  = self.weight[index]\n",
    "\n",
    "        return self.pi\n",
    "        "
   ]
  },
  {
   "cell_type": "code",
   "execution_count": 61,
   "metadata": {},
   "outputs": [
    {
     "name": "stdout",
     "output_type": "stream",
     "text": [
      "Result from matrix [-1, 2, 0, 2, 0]\n",
      "Result from list [-1, 2, 0, 2, 0]\n"
     ]
    }
   ],
   "source": [
    "G = [[0, 2, 2, 5, 3],\n",
    "     [2, 0, 1, 4, 4],\n",
    "     [2, 1, 0, 3, 5],\n",
    "     [5, 4, 3, 0, 9],\n",
    "     [3, 4, 5, 9, 0]]\n",
    "\n",
    "prim_function = Prim(G)\n",
    "print(f'Result from matrix {prim_function.prim_matrix()}')\n",
    "\n",
    "G = {\n",
    "    0 : [[1, 2], [2, 2], [3, 5], [4, 3]],\n",
    "    1 : [[0, 2], [2, 1], [3, 4], [4, 4]],\n",
    "    2 : [[0, 2], [1, 1], [3, 3], [4, 5]],\n",
    "    3 : [[0, 5], [1, 4], [2, 3], [4, 9]],\n",
    "    4 : [[0, 3], [1, 4], [2, 5], [3, 9]]\n",
    "}\n",
    "\n",
    "prim_function = Prim(G)\n",
    "print(f'Result from list {prim_function.prim_list()}')\n",
    "\n",
    "\n",
    "\n"
   ]
  }
 ],
 "metadata": {
  "kernelspec": {
   "display_name": "Python 3.8.10 ('.venv': pipenv)",
   "language": "python",
   "name": "python3"
  },
  "language_info": {
   "codemirror_mode": {
    "name": "ipython",
    "version": 3
   },
   "file_extension": ".py",
   "mimetype": "text/x-python",
   "name": "python",
   "nbconvert_exporter": "python",
   "pygments_lexer": "ipython3",
   "version": "3.8.10"
  },
  "orig_nbformat": 4,
  "vscode": {
   "interpreter": {
    "hash": "27768773b483d82a9b2b839e3fa80b1be5789db7fd78df4eedef2df266871616"
   }
  }
 },
 "nbformat": 4,
 "nbformat_minor": 2
}

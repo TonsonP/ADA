{
 "cells": [
  {
   "cell_type": "code",
   "execution_count": null,
   "metadata": {},
   "outputs": [],
   "source": [
    "# Implement Insertion Sort\n",
    "# Use example from book Introduction to algorithms, 3rd Edition by Thomas H. Cormen\n",
    "\n",
    "def insertion_sort(inputlist):\n",
    "\n",
    "  if type(inputlist) != list:\n",
    "    return 'This is not a list!' \n",
    "\n",
    "  j = 1\n",
    "\n",
    "  while j < len(inputlist):\n",
    "    key = inputlist[j]\n",
    "    i = j - 1\n",
    "\n",
    "    while (i >= 0) and (inputlist[i] > key) :\n",
    "      inputlist[i + 1] = inputlist[i]\n",
    "      i = i - 1\n",
    "      #print(inputlist) # For debugging\n",
    "    inputlist[i + 1] = key\n",
    "    j = j + 1\n",
    "    #print(f'j is equal {j} current list is {inputlist}')  # For debugging\n",
    "  return inputlist\n",
    "\n",
    "    "
   ]
  },
  {
   "cell_type": "code",
   "execution_count": null,
   "metadata": {},
   "outputs": [],
   "source": [
    "# Implement Merge Sort\n",
    "# Use example from Algorithms Designs and Analysis Unit1 slides\n",
    "# Take a peak (very little) at the solution from codebasics chanel as I cannot find a way to recursively divide an array by myself.\n",
    "# Link : https://www.youtube.com/watch?v=nCNfu_zNhyI&ab_channel=codebasics\n",
    "\n",
    "def merge_sort(inputarray):\n",
    "\n",
    "    # If array size is 1 we can not divide it anymore\n",
    "    if len(inputarray) <= 1:\n",
    "        return inputarray\n",
    "    inputarray_lenght = len(inputarray)\n",
    "    mid = int(inputarray_lenght / 2)\n",
    "    left_array = inputarray[0:mid]\n",
    "    right_array = inputarray[mid:]\n",
    "\n",
    "    #print(f'left_array is {left_array} and right_array is {right_array}') # For debugging\n",
    "    left_array = merge_sort(left_array) # Divide the left array into the smaller one\n",
    "    right_array = merge_sort(right_array) # Divide the right array into the smaller one\n",
    "\n",
    "    return merge_two_array(left_array, right_array)\n",
    "\n",
    "def merge_two_array(left, right):\n",
    "\n",
    "\n",
    "    n1 = len(left) # lenght of left array\n",
    "    n2 = len(right) # lenght of right array\n",
    "\n",
    "    sorted_list = [0] * (n1 + n2) # Create new array that can fit all element from the left and right array\n",
    "\n",
    "    i = 0 # Left array pointer\n",
    "    j = 0 # Right array pointer\n",
    "    k = 0 # Sorted_list pointer\n",
    "\n",
    "    # Move the pointer\n",
    "    #print(f'merge two array || left_array is {left} and right_array is {right}') # For debug\n",
    "\n",
    "    while (i < n1 and j < n2):\n",
    "        if left[i] <= right[j]:\n",
    "            sorted_list[k] = left[i] #1\n",
    "            i = i + 1\n",
    "            k = k + 1\n",
    "        else:\n",
    "            sorted_list[k] = right[j] #2\n",
    "            j = j + 1\n",
    "            k = k + 1\n",
    "\n",
    "    # When pointer is point to out of range copy the rest element of the other array\n",
    "    while i < n1:\n",
    "        sorted_list[k] = left[i] #3 \n",
    "        i = i + 1\n",
    "        k = k + 1\n",
    "\n",
    "    while j < n2:\n",
    "        sorted_list[k] = right[j] #4\n",
    "        j = j + 1\n",
    "        k = k + 1\n",
    "\n",
    "    return sorted_list\n"
   ]
  },
  {
   "cell_type": "code",
   "execution_count": null,
   "metadata": {},
   "outputs": [],
   "source": [
    "test_case1 = [4, 6, 7, 4, 2, 1]\n",
    "test_case2 = [1, 2, 3, 4, 5, 6]\n",
    "test_case3 = [6, 5, 4, 3, 2, 1]\n",
    "\n",
    "#insertion_sort(test_case3)'\n",
    "merge_sort(test_case3)"
   ]
  },
  {
   "cell_type": "code",
   "execution_count": null,
   "metadata": {},
   "outputs": [],
   "source": []
  }
 ],
 "metadata": {
  "kernelspec": {
   "display_name": "Python 3.8.10 ('.venv': pipenv)",
   "language": "python",
   "name": "python3"
  },
  "language_info": {
   "codemirror_mode": {
    "name": "ipython",
    "version": 3
   },
   "file_extension": ".py",
   "mimetype": "text/x-python",
   "name": "python",
   "nbconvert_exporter": "python",
   "pygments_lexer": "ipython3",
   "version": "3.8.10"
  },
  "orig_nbformat": 4,
  "vscode": {
   "interpreter": {
    "hash": "27768773b483d82a9b2b839e3fa80b1be5789db7fd78df4eedef2df266871616"
   }
  }
 },
 "nbformat": 4,
 "nbformat_minor": 2
}

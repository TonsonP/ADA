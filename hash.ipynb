{
 "cells": [
  {
   "cell_type": "code",
   "execution_count": 135,
   "metadata": {},
   "outputs": [
    {
     "name": "stdout",
     "output_type": "stream",
     "text": [
      "[None, (1, 'Chaky'), None, None, None, None, None, None, None, None, None]\n",
      "[None, (1, 'Chaky'), (2, 'Peter'), None, None, None, None, None, None, None, None]\n",
      "[None, (1, 'Chaky'), (2, 'Peter'), (2, 'Peterss'), None, None, None, None, None, None, None]\n",
      "[None, (1, 'Chaky'), (2, 'Peter'), (2, 'Peterss'), (3, 'John'), None, None, None, None, None, None]\n",
      "[None, (1, 'Chaky'), (2, 'Peter'), (2, 'Peterss'), (3, 'John'), (12, 'Matthew'), None, None, None, None, None]\n",
      "True Matthew\n"
     ]
    }
   ],
   "source": [
    "'''\n",
    "Here I gonna perform chaining method\n",
    "\n",
    "Assignment:  Linear Probing\n",
    "'''\n",
    "class HashTable:\n",
    "    \n",
    "    def __init__(self, m, method='Chaining'):\n",
    "        self.m = m\n",
    "        self.method = method\n",
    "        self.hashtable = self.create_hash_table()\n",
    "        \n",
    "    \n",
    "    def create_hash_table(self):\n",
    "        if self.method == 'Linear_Probing':\n",
    "            somelist = [None] * self.m\n",
    "            return somelist\n",
    "        else:    \n",
    "            return [ [] for _ in range(self.m) ]\n",
    "    \n",
    "    def _prehash(self, key):\n",
    "        #challenge: handle negative keys and string\n",
    "        if (type(key) == str):\n",
    "            key = hash(key)  #returns a number for you\n",
    "            \n",
    "        if ((type(key) == int) | (type(key) == float)):\n",
    "            if (key < 0):\n",
    "                key = hash(float(key)) * -1  #first convert to float, then hash it\n",
    "        \n",
    "        assert (key > 0) & (type(key) == int)\n",
    "    \n",
    "        return key\n",
    "    \n",
    "    def _hash(self, key):\n",
    "        #get the position using division method\n",
    "        if self.method == 'Linear_Probing':\n",
    "            index = key % self.m\n",
    "            return index\n",
    "        else: \n",
    "            index = key % self.m\n",
    "            bucket = self.hashtable[index]\n",
    "            return bucket\n",
    "    \n",
    "    def insert(self, key, val):\n",
    "\n",
    "        if self.method == 'Linear_Probing':\n",
    "            key = self._prehash(key)\n",
    "            bucket = self._hash(key)\n",
    "            if (self.hashtable[bucket] == None) or (self.hashtable[bucket] == -9999):\n",
    "                self.hashtable[bucket] = (key, val)\n",
    "            else:\n",
    "                count = 1\n",
    "                for i in range(len(self.hashtable)):\n",
    "                    curindex = (bucket + count) % self.m\n",
    "                    #print(f'Curindex is {curindex}, bucket is {bucket}')\n",
    "                    if curindex == bucket:\n",
    "                        #print(f'Curindex is {curindex}, bucket is {bucket}')\n",
    "                        return False # Array is full\n",
    "                    if (self.hashtable[curindex] == None) or (self.hashtable[curindex] == -9999):\n",
    "                        #print(f'Input {key, val} is in index {curindex}')\n",
    "                        self.hashtable[curindex] = (key, val)\n",
    "                        break\n",
    "                    else:\n",
    "                        count = count + 1\n",
    "            \n",
    "\n",
    "\n",
    "            print(self.hashtable)\n",
    "\n",
    "\n",
    "        else:\n",
    "            key    = self._prehash(key)  #clean neg numbers or string\n",
    "            bucket = self._hash(key)     #get the position of the hashtable\n",
    "            \n",
    "            # found = False\n",
    "            # #check whether the key duplicates\n",
    "            # for i, (bkey, bval) in enumerate(bucket):\n",
    "            #     if bkey == key:\n",
    "            #         found = True\n",
    "            #         pos_dup = i\n",
    "            #         break\n",
    "            found, pos_dup, _ = self.search(key)\n",
    "                    \n",
    "            #if the key duplicates, only update the value\n",
    "            if(found):\n",
    "                bucket[pos_dup] = (key, val)\n",
    "            else: #if the key does not exist, append and #if something is there already, append\n",
    "                bucket.append((key, val))\n",
    "                \n",
    "            print(self.hashtable)\n",
    "    \n",
    "    def search(self, key):\n",
    "        if self.method == 'Linear_Probing':\n",
    "            key = self._prehash(key)\n",
    "            bucket = self._hash(key)\n",
    "            found = False\n",
    "\n",
    "            #print(f'self.hashtable type = {type(self.hashtable  \n",
    "            '''\n",
    "            for i, val in enumerate(testlist):\n",
    "                print(f'i = {i}, val = {val}')\n",
    "                try:\n",
    "                    bkey, bval = val\n",
    "                except TypeError:\n",
    "                    bkey = val\n",
    "                    bval = None\n",
    "                print(f'i = {i}, bkey = {bkey}, bval = {bval}')\n",
    "            '''\n",
    "            answer = -9999\n",
    "            pos_dup = -9999\n",
    "\n",
    "            # If the thing we want to find is in it hash spot we're lucky\n",
    "            try:\n",
    "                bkey, bval = self.hashtable[bucket]\n",
    "            except TypeError:\n",
    "                bkey = self.hashtable[bucket]\n",
    "\n",
    "            if bkey == key:\n",
    "                print('We are lucky!!!')\n",
    "                found = True\n",
    "                pos_dup = bucket\n",
    "                answer = bval\n",
    "                return found, pos_dup, answer \n",
    "\n",
    "\n",
    "            # Actually, This is not the most efficient way It literally linear search\n",
    "            #for i, val in enumerate(self.hashtable):\n",
    "            #    try:\n",
    "            #        bkey, bval = val\n",
    "            #    except TypeError:\n",
    "            #        bkey = val\n",
    "            #        bval = None\n",
    "            #    if bkey == key:\n",
    "            #        found = True\n",
    "            #        pos_dup = i\n",
    "            #        answer = bval\n",
    "\n",
    "            # The most efficient way\n",
    "            count = 1\n",
    "            for _ in range(len(self.hashtable)):\n",
    "                curindex = (bucket + count) % self.m\n",
    "\n",
    "                # Base case to prevent inf loop\n",
    "                if curindex == bucket:\n",
    "                    return found, pos_dup, answer\n",
    "\n",
    "                # If we hit empty spot stop\n",
    "                if self.hashtable[curindex] == None:\n",
    "                    print(f'Hit empty spot at {curindex}')\n",
    "                    return found, pos_dup, answer\n",
    "                \n",
    "                try:\n",
    "                    bkey, bval = self.hashtable[curindex]\n",
    "                except TypeError:\n",
    "                    bkey = val\n",
    "                    bval = None\n",
    "                if bkey == key:\n",
    "                    found = True\n",
    "                    pos_dup = curindex\n",
    "                    answer = bval\n",
    "                    break\n",
    "                else:\n",
    "                    count = count + 1\n",
    "\n",
    "            \n",
    "            return found, pos_dup, answer \n",
    "\n",
    "\n",
    "\n",
    "\n",
    "        else:\n",
    "            #if you finish this, \n",
    "            key = self._prehash(key)\n",
    "            \n",
    "            #perform the division method\n",
    "            bucket = self._hash(key)     #get the position of the hashtable\n",
    "\n",
    "            found  = False\n",
    "            answer = -9999\n",
    "            pos_dup = -9999\n",
    "            #loop the bucket index\n",
    "            for i, (bkey, bval) in enumerate(bucket):\n",
    "                if bkey == key:\n",
    "                    found   = True\n",
    "                    pos_dup = i\n",
    "                    answer  = bval\n",
    "                    break\n",
    "                    \n",
    "            return found, pos_dup, answer  \n",
    "    \n",
    "    def delete(self, key):\n",
    "        if self.method == 'Linear_Probing':\n",
    "            delkey = self._prehash(key)\n",
    "            found, pos_dup, answer = self.search(key)\n",
    "            bucket = self._hash(key)\n",
    "\n",
    "            if found == True:\n",
    "                self.hashtable[pos_dup] = -9999\n",
    "                return True\n",
    "            else:\n",
    "                return False\n",
    "\n",
    "\n",
    "        else:\n",
    "\n",
    "            #implement this too\n",
    "            delkey = self._prehash(key)\n",
    "            found, pos_dup, answer = self.search(key)\n",
    "            bucket = self._hash(key)\n",
    "            if pos_dup != -9999:\n",
    "                \n",
    "                for i, (bkey, bval) in enumerate(self.hashtable[pos_dup]):\n",
    "                    #print(f'i = {i}, bkey = {bkey}, bval = {bval}')\n",
    "                    #print(len(self.hashtable[pos_dup]))\n",
    "                    #print(f'delkey = {delkey}')\n",
    "                    if bkey == delkey:\n",
    "                        #print(f'DELETE!!!!!!!!!!!')\n",
    "                        #self.hashtable[pos_dup].pop(bkey)\n",
    "                        del self.hashtable[pos_dup]\n",
    "                        return True\n",
    "            else:\n",
    "                return False\n",
    "    \n",
    "ht = HashTable(11, method='Linear_Probing')\n",
    "#ht = HashTable(11)\n",
    "ht.insert(1, 'Chaky')\n",
    "ht.insert(2, 'Peter')\n",
    "ht.insert(2, 'Peterss')\n",
    "ht.insert(3, 'John')\n",
    "ht.insert(12, 'Matthew')  #this should be in the same bucket with 'Chaky'\n",
    "\n",
    "found, _, val = ht.search(12)\n",
    "print(found, val)"
   ]
  },
  {
   "cell_type": "code",
   "execution_count": 136,
   "metadata": {},
   "outputs": [
    {
     "name": "stdout",
     "output_type": "stream",
     "text": [
      "True 5 Matthew\n"
     ]
    }
   ],
   "source": [
    "found, pos_dup, val = ht.search(12)\n",
    "print(found, pos_dup, val)"
   ]
  },
  {
   "cell_type": "code",
   "execution_count": 137,
   "metadata": {},
   "outputs": [
    {
     "name": "stdout",
     "output_type": "stream",
     "text": [
      "Hit empty spot at 6\n",
      "False -9999 -9999\n"
     ]
    }
   ],
   "source": [
    "found, pos, val = ht.search(99)\n",
    "print(found, pos, val)"
   ]
  },
  {
   "cell_type": "code",
   "execution_count": 138,
   "metadata": {},
   "outputs": [
    {
     "name": "stdout",
     "output_type": "stream",
     "text": [
      "Hit empty spot at 6\n",
      "False -9999\n",
      "Hit empty spot at 6\n",
      "Hit empty spot at 6\n",
      "False -9999\n"
     ]
    }
   ],
   "source": [
    "found, _, val = ht.search(99)\n",
    "print(found, val)\n",
    "ht.delete(99)\n",
    "found, _, val = ht.search(99)\n",
    "print(found, val)"
   ]
  },
  {
   "cell_type": "code",
   "execution_count": 139,
   "metadata": {},
   "outputs": [
    {
     "name": "stdout",
     "output_type": "stream",
     "text": [
      "True Matthew\n",
      "Hit empty spot at 6\n",
      "False -9999\n"
     ]
    }
   ],
   "source": [
    "found, _, val = ht.search(12)\n",
    "print(found, val)\n",
    "ht.delete(12)\n",
    "found, _, val = ht.search(12)\n",
    "print(found, val)"
   ]
  },
  {
   "cell_type": "code",
   "execution_count": 55,
   "metadata": {},
   "outputs": [
    {
     "name": "stdout",
     "output_type": "stream",
     "text": [
      "[None, None, None, None, None, None, None, None, None, None]\n"
     ]
    }
   ],
   "source": [
    "somelist = [None] * 10\n",
    "print(somelist)"
   ]
  },
  {
   "cell_type": "code",
   "execution_count": 76,
   "metadata": {},
   "outputs": [
    {
     "name": "stdout",
     "output_type": "stream",
     "text": [
      "[{1, 'A'}, {2, 'B'}, 0]\n"
     ]
    }
   ],
   "source": [
    "testlist = [{1, 'A'}, {2, 'B'}, 0]\n",
    "print(testlist)"
   ]
  },
  {
   "cell_type": "code",
   "execution_count": 77,
   "metadata": {},
   "outputs": [
    {
     "name": "stdout",
     "output_type": "stream",
     "text": [
      "i = 0, bkey = 1, bval = A\n",
      "i = 1, bkey = 2, bval = B\n"
     ]
    },
    {
     "ename": "TypeError",
     "evalue": "cannot unpack non-iterable int object",
     "output_type": "error",
     "traceback": [
      "\u001b[0;31m---------------------------------------------------------------------------\u001b[0m",
      "\u001b[0;31mTypeError\u001b[0m                                 Traceback (most recent call last)",
      "\u001b[1;32m/root/projects/CP_assignment/hash.ipynb Cell 8\u001b[0m in \u001b[0;36m<cell line: 1>\u001b[0;34m()\u001b[0m\n\u001b[0;32m----> <a href='vscode-notebook-cell://attached-container%2B7b22636f6e7461696e65724e616d65223a222f626f6f7463616d702d707974686f6e2d31227d/root/projects/CP_assignment/hash.ipynb#X10sdnNjb2RlLXJlbW90ZQ%3D%3D?line=0'>1</a>\u001b[0m \u001b[39mfor\u001b[39;00m i, (bkey, bval) \u001b[39min\u001b[39;00m \u001b[39menumerate\u001b[39m(testlist):\n\u001b[1;32m      <a href='vscode-notebook-cell://attached-container%2B7b22636f6e7461696e65724e616d65223a222f626f6f7463616d702d707974686f6e2d31227d/root/projects/CP_assignment/hash.ipynb#X10sdnNjb2RlLXJlbW90ZQ%3D%3D?line=1'>2</a>\u001b[0m     \u001b[39mprint\u001b[39m(\u001b[39mf\u001b[39m\u001b[39m'\u001b[39m\u001b[39mi = \u001b[39m\u001b[39m{\u001b[39;00mi\u001b[39m}\u001b[39;00m\u001b[39m, bkey = \u001b[39m\u001b[39m{\u001b[39;00mbkey\u001b[39m}\u001b[39;00m\u001b[39m, bval = \u001b[39m\u001b[39m{\u001b[39;00mbval\u001b[39m}\u001b[39;00m\u001b[39m'\u001b[39m)\n",
      "\u001b[0;31mTypeError\u001b[0m: cannot unpack non-iterable int object"
     ]
    }
   ],
   "source": [
    "for i, (bkey, bval) in enumerate(testlist):\n",
    "    print(f'i = {i}, bkey = {bkey}, bval = {bval}')"
   ]
  },
  {
   "cell_type": "code",
   "execution_count": 95,
   "metadata": {},
   "outputs": [
    {
     "name": "stdout",
     "output_type": "stream",
     "text": [
      "i = 0, val = {1, 'A'}\n",
      "i = 0, bkey = 1, bval = A\n",
      "i = 1, val = {2, 'B'}\n",
      "i = 1, bkey = 2, bval = B\n",
      "i = 2, val = 0\n",
      "i = 2, bkey = 0, bval = None\n"
     ]
    }
   ],
   "source": [
    "for i, val in enumerate(testlist):\n",
    "    print(f'i = {i}, val = {val}')\n",
    "    try:\n",
    "        bkey, bval = val\n",
    "    except TypeError:\n",
    "        bkey = val\n",
    "        bval = None\n",
    "    print(f'i = {i}, bkey = {bkey}, bval = {bval}')"
   ]
  }
 ],
 "metadata": {
  "kernelspec": {
   "display_name": "Python 3.8.10 ('.venv': pipenv)",
   "language": "python",
   "name": "python3"
  },
  "language_info": {
   "codemirror_mode": {
    "name": "ipython",
    "version": 3
   },
   "file_extension": ".py",
   "mimetype": "text/x-python",
   "name": "python",
   "nbconvert_exporter": "python",
   "pygments_lexer": "ipython3",
   "version": "3.8.10"
  },
  "orig_nbformat": 4,
  "vscode": {
   "interpreter": {
    "hash": "27768773b483d82a9b2b839e3fa80b1be5789db7fd78df4eedef2df266871616"
   }
  }
 },
 "nbformat": 4,
 "nbformat_minor": 2
}

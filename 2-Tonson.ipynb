{
 "cells": [
  {
   "cell_type": "code",
   "execution_count": 18,
   "metadata": {},
   "outputs": [],
   "source": [
    "def find_max_crossing_subarray(inputarray):\n",
    "\n",
    "\n",
    "    #print(f'Current array is {inputarray}')\n",
    "        \n",
    "    #if len(inputarray) == 2:\n",
    "    #    print(f'Case len == 2')\n",
    "    #    return inputarray[0], inputarray[1], inputarray[0] + inputarray[1]\n",
    "    #elif len(inputarray) == 1:\n",
    "    #    print(f'Case len == 1')\n",
    "    #    return inputarray[0], inputarray[0], inputarray[0]\n",
    "\n",
    "\n",
    "    mid = int(len(inputarray) / 2)\n",
    "    max_left = max(inputarray[0:mid])\n",
    "    max_right = max(inputarray[mid:])\n",
    "\n",
    "\n",
    "\n",
    "    left_sum = right_sum = -999999 # lowest number to make the first if sum work\n",
    "    sum = 0\n",
    "    for i in range(mid - 1, -1, -1): # sum from mid to index 0 \n",
    "        sum = sum + inputarray[i]\n",
    "        if (sum > left_sum):\n",
    "            left_sum = sum\n",
    "            index_left = i\n",
    "\n",
    "    sum = 0\n",
    "    j = mid\n",
    "\n",
    "    while j < len(inputarray):\n",
    "        sum = sum + inputarray[j]\n",
    "        if (sum > right_sum):\n",
    "            right_sum = sum\n",
    "            index_right = j\n",
    "        j = j + 1\n",
    "    \n",
    "    return index_left, index_right, left_sum + right_sum\n",
    "\n",
    "\n",
    "#print(f'max_left is {max_left}, max_right is {max_right}, left sum {left_sum}, right sum {right_sum}')\n",
    "    \n"
   ]
  },
  {
   "cell_type": "code",
   "execution_count": 46,
   "metadata": {},
   "outputs": [],
   "source": [
    "def find_maximum_subarray(inputarray):\n",
    "    if len(inputarray) == 1:\n",
    "        return inputarray[0], inputarray[0], inputarray[0]\n",
    "    \n",
    "    mid = int(len(inputarray) / 2)\n",
    "\n",
    "    left_low, left_high, left_sum = find_maximum_subarray(inputarray[0:mid])\n",
    "    right_low, right_high, right_sum = find_maximum_subarray(inputarray[mid:])\n",
    "    cross_low, cross_high, cross_sum = find_max_crossing_subarray(inputarray)\n",
    "\n",
    "    if (left_sum >= right_sum) & (left_sum >= cross_sum):\n",
    "        return left_low, left_high, left_sum\n",
    "    elif (right_sum >= left_sum) & (right_sum >= cross_sum):\n",
    "        return right_low, right_high, right_sum\n",
    "    else:\n",
    "        return cross_low, cross_high, cross_sum"
   ]
  },
  {
   "cell_type": "code",
   "execution_count": 47,
   "metadata": {},
   "outputs": [
    {
     "name": "stdout",
     "output_type": "stream",
     "text": [
      "Mamimum subarray start from index 2 end at index 7 with the total sum of 110\n"
     ]
    }
   ],
   "source": [
    "#test_arr = [-5, 1, 2, 9, -5, 8]\n",
    "#test_arr = [8, -3, -2, 4, 7]\n",
    "#test_arr = [-6, -2, 8, 3, 4, -2]\n",
    "test_arr = [2, -4, 7, 45, 10, -7, 36, 19]\n",
    "#test_arr = [2, -4, 7, 45, 10]\n",
    "#test_arr = [2, -1, 4, -5, 4, 3]\n",
    "#x = find_max_crossing_subarray(test_arr)\n",
    "#print(x)\n",
    "'''\n",
    "test1, test2, test3 = x\n",
    "print(x)\n",
    "print(test1)\n",
    "print(test2)\n",
    "print(test3)\n",
    "'''\n",
    "x = find_maximum_subarray(test_arr)\n",
    "print(f'Mamimum subarray start from index {x[0]} end at index {x[1]} with the total sum of {x[2]}')\n"
   ]
  },
  {
   "cell_type": "code",
   "execution_count": null,
   "metadata": {},
   "outputs": [],
   "source": [
    "# Try to find runtime using recursion-tree method\n",
    "# T(n) = 2T(n/2) + cn\n",
    "# It will be O(1) if n = 1\n",
    "# The subproblem size at dept i is (n/2^i)\n",
    "# The subproblem size hits n = 1 when (n/2^i) = 1 or log2(n) levels\n",
    "# The cost of each level\n",
    "    # Number of nodes at depth i is 2^i\n",
    "    # Each node at depth i has a cost of c(n/(2^i))^2\n",
    "    # Total cost of all nodes at each depth is 2^i c(n/(2^i))^2\n",
    "    # The bottom level at depth log2(n) has 2 ^ (log2(n)) same as (n^(log2(2)) nodes\n",
    "    # each contributing cost of 1\n",
    "\n",
    "# Top node = n and Bottom node is n^(log2(2)) = n\n",
    "# Top node and Bottom is equal, thus we can find approximation by width * height\n",
    "# width * height = n * log2(n) = n log n\n",
    "# The approximate run times is O(n log(n))\n",
    "\n",
    "# After comparing the actual time spent with the graph below, I think the actual time is quite close to the theoretical complexity.\n",
    "# But I can clearly see that there are some spikes in the graph. I think it is from the hardware, because the spike\n",
    "# different each time I run this code.\n"
   ]
  },
  {
   "cell_type": "code",
   "execution_count": 73,
   "metadata": {},
   "outputs": [
    {
     "data": {
      "image/png": "[encoded data removed]",
      "text/plain": [
       "<Figure size 432x288 with 1 Axes>"
      ]
     },
     "metadata": {
      "needs_background": "light"
     },
     "output_type": "display_data"
    }
   ],
   "source": [
    "from random import sample\n",
    "from timeit import timeit\n",
    "import numpy as np\n",
    "import matplotlib.pyplot as plt\n",
    "\n",
    "# The range of n will be between 10 and 1000 with a growth rate of 10 per iteration\n",
    "num_samples = range(10, 1000, 10)\n",
    "\n",
    "# The constant value c shows somewhat of a match between nlogn and the algorithm\n",
    "# This is probably  true for my PC due to hardware and might be a different value for other\n",
    "c = 1/430000\n",
    "\n",
    "timevals = []\n",
    "\n",
    "\n",
    "y_nlogn = []\n",
    "for n in num_samples:\n",
    "    my_list = sample(range(n), n)\n",
    "    y_nlogn.append(c * n * np.log(n))\n",
    "    time = timeit('find_maximum_subarray(my_list)', number=1, globals=globals())\n",
    "    timevals.append(time)\n",
    "plt.plot(num_samples, y_nlogn, label='nlogn')\n",
    "plt.plot(num_samples, timevals, label='Code Runtime')\n",
    "plt.legend()\n",
    "plt.show()\n"
   ]
  }
 ],
 "metadata": {
  "kernelspec": {
   "display_name": "Python 3.8.10 ('.venv': pipenv)",
   "language": "python",
   "name": "python3"
  },
  "language_info": {
   "codemirror_mode": {
    "name": "ipython",
    "version": 3
   },
   "file_extension": ".py",
   "mimetype": "text/x-python",
   "name": "python",
   "nbconvert_exporter": "python",
   "pygments_lexer": "ipython3",
   "version": "3.8.10"
  },
  "orig_nbformat": 4,
  "vscode": {
   "interpreter": {
    "hash": "27768773b483d82a9b2b839e3fa80b1be5789db7fd78df4eedef2df266871616"
   }
  }
 },
 "nbformat": 4,
 "nbformat_minor": 2
}

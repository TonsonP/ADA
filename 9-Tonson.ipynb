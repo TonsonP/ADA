{
 "cells": [
  {
   "cell_type": "code",
   "execution_count": 69,
   "metadata": {},
   "outputs": [
    {
     "name": "stdout",
     "output_type": "stream",
     "text": [
      "[-1, 0, 0, 0, 0]\n",
      "[2, 2, 5, 3]\n"
     ]
    }
   ],
   "source": [
    "\n",
    "G = [[0, 2, 2, 5, 3],\n",
    "     [2, 0, 1, 4, 4],\n",
    "     [2, 1, 0, 3, 5],\n",
    "     [5, 4, 3, 0, 9],\n",
    "     [3, 4, 5, 9, 0]]\n",
    "S = []\n",
    "\n",
    "INF = 9999\n",
    "N   = 5\n",
    "\n",
    "#r.key = 0\n",
    "r   = 0\n",
    "\n",
    "# put all vertex into the queue\n",
    "# for each vertex\n",
    "# set key = infinity\n",
    "from heapdict import heapdict  # pip install heapdict or conda install heapdict\n",
    "\n",
    "Q = heapdict()\n",
    "for i in range(N):\n",
    "    Q[i] = INF\n",
    "Q[r] = 0\n",
    "\n",
    "# set pi  = NIL\n",
    "# pi = [None, None, None, None, None]\n",
    "pi = [None] * 5\n",
    "# set the pi of r = -1 or anything you like\n",
    "pi[r] = -1\n",
    "# print(f\"PI: {pi}\")\n",
    "\n",
    "def adj(G, u):\n",
    "    neighbors = []\n",
    "    \n",
    "    #for each vertex\n",
    "    for v in range(N):\n",
    "        #if G[u, v]\n",
    "        if G[u][v]:\n",
    "            #append to the neighbors\n",
    "            neighbors.append(v)\n",
    "    return neighbors\n",
    "\n",
    "def v_in_Q(Q, v):\n",
    "    #get the keys in Q\n",
    "    keys = list(Q.keys())   #you can actually do if v in Q:\n",
    "    #check if v in keys\n",
    "    return v in keys\n",
    "\n",
    "# while Q is not empty\n",
    "while(Q):\n",
    "    #u = extract_min  (dict has no extract_min)\n",
    "    u  = Q.popitem()[0]  \n",
    "    # for v in adj[u]\n",
    "    for v in adj(G, u):\n",
    "        # if v in Q, and w(u, v) + u.key < v.key\n",
    "        if (v_in_Q(Q, v) and ((G[u][v] + u) < Q[v])):\n",
    "            #v.pi = u\n",
    "            pi[v] = u\n",
    "            #v.key = w(u, v)\n",
    "            Q[v]  = G[u][v] + u\n",
    "            S.append(G[u][v] + u)\n",
    "            \n",
    "    \n",
    "print(pi)\n",
    "print(S)\n",
    "# From your example start from 0 the shortest part to node 1 is 2, node 2 is 2\n",
    "# node 3 is 5, node 4 is 3 as see from the print list of S Below krub"
   ]
  }
 ],
 "metadata": {
  "kernelspec": {
   "display_name": "Python 3.8.10 ('.venv': pipenv)",
   "language": "python",
   "name": "python3"
  },
  "language_info": {
   "codemirror_mode": {
    "name": "ipython",
    "version": 3
   },
   "file_extension": ".py",
   "mimetype": "text/x-python",
   "name": "python",
   "nbconvert_exporter": "python",
   "pygments_lexer": "ipython3",
   "version": "3.8.10"
  },
  "orig_nbformat": 4,
  "vscode": {
   "interpreter": {
    "hash": "27768773b483d82a9b2b839e3fa80b1be5789db7fd78df4eedef2df266871616"
   }
  }
 },
 "nbformat": 4,
 "nbformat_minor": 2
}
